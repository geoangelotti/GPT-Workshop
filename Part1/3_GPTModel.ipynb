{
 "cells": [
  {
   "cell_type": "markdown",
   "metadata": {},
   "source": [
    "# Creating a GPT Model"
   ]
  },
  {
   "cell_type": "markdown",
   "metadata": {},
   "source": [
    "## Loading dataset and parameters"
   ]
  },
  {
   "cell_type": "code",
   "execution_count": 9,
   "metadata": {},
   "outputs": [],
   "source": [
    "import pickle\n",
    "import torch\n",
    "import numpy as np\n",
    "import torch.nn as nn\n",
    "from torch.nn import functional as F\n",
    "from contextlib import nullcontext\n",
    "\n",
    "with open(\"./dataset/meta.pkl\", 'rb') as f:\n",
    "    meta = pickle.load(f)\n",
    "\n",
    "vocab_size = meta[\"vocab_size\"]\n",
    "itos= meta[\"itos\"]\n",
    "stoi= meta[\"stoi\"]\n",
    "\n",
    "\n",
    "# hyperparameters\n",
    "batch_size = 16 # how many independent sequences will we process in parallel?\n",
    "block_size = 32 # what is the maximum context length for predictions?\n",
    "max_iters = 5000\n",
    "eval_interval = 100\n",
    "learning_rate = 1e-3\n",
    "device = 'cuda' if torch.cuda.is_available() else 'cpu'\n",
    "eval_iters = 200\n",
    "n_embd = 64\n",
    "n_head = 4\n",
    "n_layer = 4\n",
    "dropout = 0.0\n",
    "# ------------\n",
    "\n",
    "encode = lambda s: [stoi[c] for c in s]\n",
    "decode = lambda l: \"\".join([itos[i] for i in l]) \n",
    "\n",
    "\n",
    "dtype = 'bfloat16' if torch.cuda.is_available() and torch.cuda.is_bf16_supported() else 'float16'\n",
    "ptdtype = {'float32': torch.float32, 'bfloat16': torch.bfloat16, 'float16': torch.float16}[dtype]\n",
    "ctx = nullcontext() if device == 'cpu' else torch.amp.autocast(device_type=device, dtype=ptdtype)\n",
    "\n",
    "# redefine batch generation\n",
    "torch.manual_seed(1337)\n",
    "\n",
    "\n",
    "def get_batch(split):\n",
    "    # https://stackoverflow.com/questions/45132940/numpy-memmap-memory-usage-want-to-iterate-once/61472122#61472122\n",
    "    if split == 'train':\n",
    "        data = np.memmap(\"./dataset/train.bin\", dtype=np.uint16, mode='r')\n",
    "    else:\n",
    "        data = np.memmap(\"./dataset/val.bin\", dtype=np.uint16, mode='r')\n",
    "    \n",
    "    ix = torch.randint(len(data) - block_size, (batch_size,))\n",
    "    x = torch.stack([torch.from_numpy((data[i:i+block_size]).astype(np.int64)) for i in ix])\n",
    "    y = torch.stack([torch.from_numpy((data[i+1:i+1+block_size]).astype(np.int64)) for i in ix])\n",
    "    if device == 'cuda' or device == 'mps':\n",
    "        # pin arrays x,y, which allows us to move them to GPU asynchronously (non_blocking=True)\n",
    "        x, y = x.pin_memory().to(device, non_blocking=True), y.pin_memory().to(device, non_blocking=True)\n",
    "    else:\n",
    "        x, y = x.to(device), y.to(device)\n",
    "    return x, y\n",
    "\n",
    "\n",
    "# helps estimate an arbitrarily accurate loss over either split using many batches\n",
    "@torch.no_grad()\n",
    "def estimate_loss(m):\n",
    "    out = {}\n",
    "    m.eval()\n",
    "    for split in ['train', 'val']:\n",
    "        losses = torch.zeros(eval_iters)\n",
    "        for k in range(eval_iters):\n",
    "            X, Y = get_batch(split)\n",
    "            with ctx:\n",
    "                logits, loss = m(X, Y)\n",
    "            losses[k] = loss.item()\n",
    "        out[split] = losses.mean()\n",
    "    m.train()\n",
    "    return out\n",
    "\n",
    "\n",
    "xb, yb = get_batch('train')"
   ]
  },
  {
   "cell_type": "code",
   "execution_count": 11,
   "metadata": {},
   "outputs": [
    {
     "name": "stdout",
     "output_type": "stream",
     "text": [
      "\n",
      "HXkx,rM\n",
      "VTRPCynl3t cLYxRRXRU;elxFM3t-n$!pjRN-.kUdyMf.-:v$g?OsZ-Bi$iGnDLGfLUNNnPUrN-h\n",
      "D-:RAU&rXV,snto\n"
     ]
    }
   ],
   "source": [
    "class GPT(nn.Module):\n",
    "    def __init__(self, vocab_size):\n",
    "        super().__init__()\n",
    "        # each token directly reads off the logits for the next token from a lookup table\n",
    "        self.token_embedding_table = nn.Embedding(vocab_size, vocab_size)\n",
    "\n",
    "    def forward(self, idx, targets=None):\n",
    "\n",
    "        # idx and targets are both (B,T) tensor of integers\n",
    "        logits = self.token_embedding_table(idx)  # (Batch, Time, Channel)\n",
    "\n",
    "        if targets is None:\n",
    "            loss = None\n",
    "        else:\n",
    "            B, T, C = logits.shape\n",
    "            logits = logits.view(B * T, C)\n",
    "            targets = targets.view(B * T)\n",
    "            loss = F.cross_entropy(logits, targets)\n",
    "\n",
    "        return logits, loss\n",
    "\n",
    "    def generate(self, idx, max_new_tokens):\n",
    "        # idx is (B, T) array of indices in the current context\n",
    "        for _ in range(max_new_tokens):\n",
    "            # get the predictions\n",
    "            logits, _ = self(idx)\n",
    "            # focus only on the last time step\n",
    "            logits = logits[:, -1, :]  # becomes (B, C)\n",
    "            # apply softmax to get probabilities\n",
    "            probs = F.softmax(logits, dim=-1)  # (B, C) \n",
    "            # sample from the distribution\n",
    "            idx_next = torch.multinomial(probs, num_samples=1)  # (B, 1)\n",
    "            # append sampled index to the running sequence\n",
    "            idx = torch.cat((idx, idx_next), dim=1)  # (B, T+1)\n",
    "        return idx\n",
    "\n",
    "\n",
    "m = GPT(vocab_size)\n",
    "m.to(device)\n",
    "logits, loss = m(xb, yb)\n",
    "\n",
    "\n",
    "# generate data from the model\n",
    "context = torch.zeros((1,1), dtype=torch.long, device= device) #1x1 tensor with 0 aka \"\\n\"\n",
    "result = m.generate(context, max_new_tokens=100)[0].tolist()\n",
    "print(decode(result))"
   ]
  },
  {
   "cell_type": "markdown",
   "metadata": {},
   "source": [
    "## Training of GPTModel\n"
   ]
  },
  {
   "cell_type": "code",
   "execution_count": 12,
   "metadata": {},
   "outputs": [],
   "source": [
    "# create a PyTorch optimizer\n",
    "optimizer = torch.optim.AdamW(m.parameters(), lr=learning_rate)"
   ]
  },
  {
   "cell_type": "code",
   "execution_count": 15,
   "metadata": {},
   "outputs": [
    {
     "name": "stdout",
     "output_type": "stream",
     "text": [
      "step 0: train loss 4.7185, val loss 4.7147\n",
      "step 100: train loss 4.5919, val loss 4.5899\n",
      "step 200: train loss 4.4711, val loss 4.4722\n",
      "step 300: train loss 4.3555, val loss 4.3520\n",
      "step 400: train loss 4.2382, val loss 4.2438\n",
      "step 500: train loss 4.1315, val loss 4.1318\n",
      "step 600: train loss 4.0315, val loss 4.0369\n",
      "step 700: train loss 3.9375, val loss 3.9354\n",
      "step 800: train loss 3.8442, val loss 3.8473\n",
      "step 900: train loss 3.7569, val loss 3.7586\n",
      "step 1000: train loss 3.6722, val loss 3.6747\n",
      "step 1100: train loss 3.5964, val loss 3.5969\n",
      "step 1200: train loss 3.5211, val loss 3.5222\n",
      "step 1300: train loss 3.4489, val loss 3.4510\n",
      "step 1400: train loss 3.3860, val loss 3.3911\n",
      "step 1500: train loss 3.3204, val loss 3.3306\n",
      "step 1600: train loss 3.2640, val loss 3.2712\n",
      "step 1700: train loss 3.2060, val loss 3.2152\n",
      "step 1800: train loss 3.1597, val loss 3.1629\n",
      "step 1900: train loss 3.1128, val loss 3.1149\n",
      "step 2000: train loss 3.0656, val loss 3.0644\n",
      "step 2100: train loss 3.0170, val loss 3.0289\n",
      "step 2200: train loss 2.9805, val loss 2.9889\n",
      "step 2300: train loss 2.9459, val loss 2.9504\n",
      "step 2400: train loss 2.9129, val loss 2.9168\n",
      "step 2500: train loss 2.8757, val loss 2.8853\n",
      "step 2600: train loss 2.8448, val loss 2.8561\n",
      "step 2700: train loss 2.8210, val loss 2.8369\n",
      "step 2800: train loss 2.7936, val loss 2.7988\n",
      "step 2900: train loss 2.7751, val loss 2.7782\n",
      "step 3000: train loss 2.7457, val loss 2.7572\n",
      "step 3100: train loss 2.7281, val loss 2.7377\n",
      "step 3200: train loss 2.7106, val loss 2.7179\n",
      "step 3300: train loss 2.6894, val loss 2.7000\n",
      "step 3400: train loss 2.6735, val loss 2.6746\n",
      "step 3500: train loss 2.6576, val loss 2.6638\n",
      "step 3600: train loss 2.6387, val loss 2.6543\n",
      "step 3700: train loss 2.6227, val loss 2.6409\n",
      "step 3800: train loss 2.6151, val loss 2.6245\n",
      "step 3900: train loss 2.6056, val loss 2.6175\n",
      "step 4000: train loss 2.5934, val loss 2.6107\n",
      "step 4100: train loss 2.5855, val loss 2.6021\n",
      "step 4200: train loss 2.5764, val loss 2.5882\n",
      "step 4300: train loss 2.5670, val loss 2.5805\n",
      "step 4400: train loss 2.5634, val loss 2.5777\n",
      "step 4500: train loss 2.5548, val loss 2.5663\n",
      "step 4600: train loss 2.5490, val loss 2.5648\n",
      "step 4700: train loss 2.5438, val loss 2.5619\n",
      "step 4800: train loss 2.5394, val loss 2.5536\n",
      "step 4900: train loss 2.5390, val loss 2.5503\n",
      "step 4999: train loss 2.5341, val loss 2.5399\n"
     ]
    }
   ],
   "source": [
    "for iteration in range(max_iters): # increase number of steps for good results...\n",
    "\n",
    "    # sample a batch of data\n",
    "    xb, yb = get_batch('train')\n",
    "\n",
    "    if iteration % eval_interval == 0 or iteration == max_iters - 1:\n",
    "        losses = estimate_loss(m)\n",
    "        print(f\"step {iteration}: train loss {losses['train']:.4f}, val loss {losses['val']:.4f}\")\n",
    "\n",
    "\n",
    "    # evaluate the loss\n",
    "    logits, loss = m(xb, yb)\n",
    "    optimizer.zero_grad(set_to_none=True)\n",
    "    loss.backward()\n",
    "    optimizer.step()\n",
    "\n"
   ]
  },
  {
   "cell_type": "code",
   "execution_count": 17,
   "metadata": {},
   "outputs": [
    {
     "name": "stdout",
     "output_type": "stream",
     "text": [
      "\n",
      "s!\n",
      "\n",
      "\n",
      "NVFwcourd ithe oriTr ico,\n",
      "SNU&HAg:\n",
      "She s, nard h wild&N: y he thelo y,\n",
      "Tovet f I I re he ule VORCowiblistomye bu r t XJUTonqo t sers allet.\n",
      "\n",
      "FlliwcFrestS:\n",
      "IAs youn wans mar KI ws, t ILamm itizilsKCUC3ns t, Pers? mefea!\n",
      "HUSO lita CELE:\n",
      "RTh mo gomaveld caBY;\n",
      "Flly hour ou tok d FO:ChaJrox\n",
      "ASOSe-haJEOLorse lon le s forenBRe ng p r alarn yos tue s\n",
      "W\n",
      "UJoe o:\n",
      "Lge InLenoryouMin, sthermeeyorcant o,\n",
      "Ore at t ld, bTyour downetCoulle\n",
      "TINoncosanFot bry oilleIOWhe thil; m e tDedefriccak!\n",
      "P, AUCUThiane te\n"
     ]
    }
   ],
   "source": [
    "# generate data from the model\n",
    "context = torch.zeros((1,1), dtype=torch.long, device= device) #1x1 tensor with 0 aka \"\\n\"\n",
    "result = m.generate(context, max_new_tokens=500)[0].tolist()\n",
    "print(decode(result))"
   ]
  },
  {
   "cell_type": "markdown",
   "metadata": {},
   "source": [
    "## Mathematical Trick for Self Attention\n",
    "\n",
    "At the moment, the tokens does not communicate with each other. We need to change that. But we need to ensure that not any information of the \"future\" is getting passed to past - because we want do predict it. So the 5th token should not talk to tokens on the 6th, 7th and 8th location. Information should only flow from the previous timestamp to the current.\n",
    "\n",
    "A simple way to do this is to **get the average of all preceding tokens** to have a single feature for calculation. We will lose a lot of information about spacial relation ship of tokens, but thats okay for lecturing purposes. \n",
    "\n",
    "### Version 1"
   ]
  },
  {
   "cell_type": "code",
   "execution_count": 20,
   "metadata": {},
   "outputs": [
    {
     "name": "stdout",
     "output_type": "stream",
     "text": [
      "a=\n",
      "tensor([[1.0000, 0.0000, 0.0000],\n",
      "        [0.5000, 0.5000, 0.0000],\n",
      "        [0.3333, 0.3333, 0.3333]])\n",
      "--\n",
      "b=\n",
      "tensor([[2., 7.],\n",
      "        [6., 4.],\n",
      "        [6., 5.]])\n",
      "--\n",
      "c=\n",
      "tensor([[2.0000, 7.0000],\n",
      "        [4.0000, 5.5000],\n",
      "        [4.6667, 5.3333]])\n"
     ]
    }
   ],
   "source": [
    "# toy example illustrating how matrix multiplication can be used for a \"weighted aggregation\"\n",
    "torch.manual_seed(42)\n",
    "a = torch.tril(torch.ones(3, 3))\n",
    "a = a / torch.sum(a, 1, keepdim=True)\n",
    "b = torch.randint(0,10,(3,2)).float()\n",
    "c = a @ b\n",
    "print('a=')\n",
    "print(a)\n",
    "print('--')\n",
    "print('b=')\n",
    "print(b)\n",
    "print('--')\n",
    "print('c=')\n",
    "print(c)"
   ]
  },
  {
   "cell_type": "code",
   "execution_count": 18,
   "metadata": {},
   "outputs": [
    {
     "data": {
      "text/plain": [
       "torch.Size([4, 8, 2])"
      ]
     },
     "execution_count": 18,
     "metadata": {},
     "output_type": "execute_result"
    }
   ],
   "source": [
    "# consider the following toy example:\n",
    "\n",
    "torch.manual_seed(1337)\n",
    "B,T,C = 4,8,2 # batch, time, channels\n",
    "x = torch.randn(B,T,C)\n",
    "x.shape"
   ]
  },
  {
   "cell_type": "code",
   "execution_count": 19,
   "metadata": {},
   "outputs": [],
   "source": [
    "# We want x[b,t] = mean_{i<=t} x[b,i]\n",
    "xbow = torch.zeros((B,T,C))\n",
    "for b in range(B):\n",
    "    for t in range(T):\n",
    "        xprev = x[b,:t+1] # (t,C)\n",
    "        xbow[b,t] = torch.mean(xprev, 0)"
   ]
  }
 ],
 "metadata": {
  "kernelspec": {
   "display_name": ".venv",
   "language": "python",
   "name": "python3"
  },
  "language_info": {
   "codemirror_mode": {
    "name": "ipython",
    "version": 3
   },
   "file_extension": ".py",
   "mimetype": "text/x-python",
   "name": "python",
   "nbconvert_exporter": "python",
   "pygments_lexer": "ipython3",
   "version": "3.11.11"
  }
 },
 "nbformat": 4,
 "nbformat_minor": 2
}
